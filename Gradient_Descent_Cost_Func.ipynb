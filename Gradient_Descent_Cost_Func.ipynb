{
 "cells": [
  {
   "cell_type": "code",
   "execution_count": 1,
   "id": "36bfa028-488d-48b9-83ab-e1d152968e25",
   "metadata": {},
   "outputs": [],
   "source": [
    "import matplotlib.pyplot as plt\n",
    "import math\n",
    "import numpy as np"
   ]
  },
  {
   "cell_type": "code",
   "execution_count": 2,
   "id": "d9ba1b4b-4477-45a1-bb9d-f631d460c19f",
   "metadata": {},
   "outputs": [],
   "source": [
    "housing_price_dataset = [(152, 213.45),\n",
    " (142, 149.89),\n",
    " (64, 122.17),\n",
    " (156, 203.97),\n",
    " (121, 182.69),\n",
    " (70, 138.4),\n",
    " (152, 182.51),\n",
    " (171, 199.9),\n",
    " (124, 170.24),\n",
    " (137, 162.86),\n",
    " (166, 219.76),\n",
    " (149, 196.16),\n",
    " (153, 268.84),\n",
    " (180, 204.37),\n",
    " (199, 229.45),\n",
    " (102, 162.6),\n",
    " (51, 122.82),\n",
    " (137, 244.18),\n",
    " (87, 177.57),\n",
    " (179, 249.59),\n",
    " (70, 127.33),\n",
    " (107, 179.42),\n",
    " (71, 105.74),\n",
    " (138, 180.09),\n",
    " (98, 110.94),\n",
    " (108, 152.28),\n",
    " (64, 138.07),\n",
    " (100, 144.76),\n",
    " (157, 187.65),\n",
    " (104, 145.0),\n",
    " (113, 181.1),\n",
    " (180, 223.61),\n",
    " (100, 171.25),\n",
    " (184, 201.22),\n",
    " (70, 98.24),\n",
    " (122, 159.33),\n",
    " (67, 84.25),\n",
    " (181, 304.59),\n",
    " (138, 160.59),\n",
    " (109, 181.87),\n",
    " (63, 96.35),\n",
    " (58, 95.16),\n",
    " (139, 196.53),\n",
    " (102, 115.54),\n",
    " (179, 212.43),\n",
    " (133, 179.34),\n",
    " (141, 169.85),\n",
    " (160, 189.44),\n",
    " (57, 134.17),\n",
    " (84, 159.12),\n",
    " (130, 168.95),\n",
    " (99, 146.9),\n",
    " (153, 233.93),\n",
    " (181, 195.34),\n",
    " (51, 109.45),\n",
    " (183, 282.36),\n",
    " (103, 202.12),\n",
    " (155, 156.5),\n",
    " (53, 83.93),\n",
    " (103, 157.22),\n",
    " (195, 211.95),\n",
    " (93, 126.29),\n",
    " (63, 109.57),\n",
    " (144, 229.03),\n",
    " (97, 145.86),\n",
    " (64, 119.42),\n",
    " (89, 151.81),\n",
    " (131, 194.59),\n",
    " (160, 210.7),\n",
    " (102, 122.07),\n",
    " (73, 142.74),\n",
    " (173, 233.79),\n",
    " (90, 112.58),\n",
    " (64, 96.94),\n",
    " (94, 166.19),\n",
    " (114, 179.14),\n",
    " (138, 169.99),\n",
    " (120, 163.25),\n",
    " (58, 104.41),\n",
    " (137, 202.43),\n",
    " (178, 259.22),\n",
    " (185, 236.64),\n",
    " (112, 191.23),\n",
    " (188, 259.83),\n",
    " (130, 185.14),\n",
    " (185, 198.91),\n",
    " (82, 106.31),\n",
    " (172, 240.53),\n",
    " (54, 61.24),\n",
    " (90, 142.97),\n",
    " (77, 152.01),\n",
    " (184, 237.81),\n",
    " (121, 155.97),\n",
    " (61, 89.83),\n",
    " (82, 152.4),\n",
    " (97, 158.79),\n",
    " (111, 153.86),\n",
    " (86, 162.63),\n",
    " (148, 219.35),\n",
    " (153, 247.71)]"
   ]
  },
  {
   "cell_type": "code",
   "execution_count": 3,
   "id": "d1308e85-df60-43a5-b227-77c2ad59d234",
   "metadata": {},
   "outputs": [],
   "source": [
    "# Getting all x and y values (first and second element of each tuple).\n",
    "x_train = [pair[0] for pair in housing_price_dataset]\n",
    "y_train = [pair[1] for pair in housing_price_dataset]"
   ]
  },
  {
   "cell_type": "code",
   "execution_count": 4,
   "id": "b699f011-2622-4394-82f4-0fbc015d1af5",
   "metadata": {},
   "outputs": [
    {
     "data": {
      "image/png": "[encoded data removed]",
      "text/plain": [
       "<Figure size 640x480 with 1 Axes>"
      ]
     },
     "metadata": {},
     "output_type": "display_data"
    }
   ],
   "source": [
    "plt.scatter(x_train, y_train)\n",
    "plt.show()"
   ]
  },
  {
   "cell_type": "markdown",
   "id": "11d31881-471c-40f4-99e1-c3e44362bdb1",
   "metadata": {},
   "source": [
    "# Cost Function\n",
    "$$J(w,b) = \\frac{1}{2m} \\sum\\limits_{i = 0}^{m-1} (f_{w,b}(x^{(i)}) - y^{(i)})^2 \\tag{J}$$\n",
    "  $$f_{w,b}(x^{(i)}) = wx^{(i)} + b \\tag{f}$$"
   ]
  },
  {
   "cell_type": "markdown",
   "id": "30ed3db1-d0dd-4569-a905-510585ad5379",
   "metadata": {},
   "source": [
    "## Compute_Cost"
   ]
  },
  {
   "cell_type": "code",
   "execution_count": 5,
   "id": "f973b7ad-f134-4d53-a04b-2f3f5aa6898b",
   "metadata": {},
   "outputs": [],
   "source": [
    "# Function to calculate the cost\n",
    "def compute_cost(x, y, w, b):\n",
    "    m = len(x)\n",
    "    cost = 0\n",
    "    for i in range(m):\n",
    "        f_wb = w * x[i] + b\n",
    "        cost += (f_wb - y[i])**2\n",
    "    cost = (1 / (2 / m)) * cost\n",
    "    return cost"
   ]
  },
  {
   "cell_type": "markdown",
   "id": "063f20cc-eadf-4586-a24f-8ade7e9a8cde",
   "metadata": {},
   "source": [
    "## Compute Gradient\n",
    "$$\n",
    "\\begin{align}\n",
    "\\frac{\\partial J(w,b)}{\\partial w}  &= \\frac{1}{m} \\sum\\limits_{i = 0}^{m-1} (f_{w,b}(x^{(i)}) - y^{(i)})x^{(i)} \\tag{w}\\\\\n",
    "  \\frac{\\partial J(w,b)}{\\partial b}  &= \\frac{1}{m} \\sum\\limits_{i = 0}^{m-1} (f_{w,b}(x^{(i)}) - y^{(i)}) \\tag{b}\\\\\n",
    "\\end{align}\n",
    "$$\n",
    "where\n",
    "  $$f_{w,b}(x^{(i)}) = wx^{(i)} + b \\tag{f}$$"
   ]
  },
  {
   "cell_type": "code",
   "execution_count": 6,
   "id": "c09d33b6-b6c7-4bb0-8045-b22dfed2fb47",
   "metadata": {},
   "outputs": [],
   "source": [
    "def compute_gradient(x, y, w, b):\n",
    "    m = len(x)\n",
    "    \n",
    "    dj_dw = 0\n",
    "    dj_db = 0\n",
    "    \n",
    "    for i in range(m):  \n",
    "        f_wb = w * x[i] + b\n",
    "        \n",
    "        dj_dw += (f_wb - y[i]) * x[i] \n",
    "        dj_db += f_wb - y[i] \n",
    "        \n",
    "    dj_dw /= m \n",
    "    dj_db /= m \n",
    "        \n",
    "    return dj_dw, dj_db"
   ]
  },
  {
   "cell_type": "markdown",
   "id": "a2d927a3-e03f-4848-9432-6a5544ab9e93",
   "metadata": {},
   "source": [
    "## Implement Gradient Descent\n",
    "\n",
    "$$\n",
    "\\text{repeat until convergence: } \\{ \\\\\n",
    "\\qquad w = w - \\alpha \\frac{\\partial J(w,b)}{\\partial w} \\\\\n",
    "\\qquad b = b - \\alpha \\frac{\\partial J(w,b)}{\\partial b} \\\\\n",
    "\\}\n",
    "$$"
   ]
  },
  {
   "cell_type": "code",
   "execution_count": 8,
   "id": "958e9408-34b9-47dc-b99e-e5e7a4adb467",
   "metadata": {},
   "outputs": [],
   "source": [
    "def gradient_descent(x, y, w_in, b_in, alpha, num_iters, cost_function, gradient_function): \n",
    "    \"\"\"\n",
    "    Performs gradient descent to fit w,b. Updates w,b by taking \n",
    "    num_iters gradient steps with learning rate alpha\n",
    "    \n",
    "    Args:\n",
    "      x (ndarray (m,))  : Data, m examples \n",
    "      y (ndarray (m,))  : target values\n",
    "      w_in,b_in (scalar): initial values of model parameters  \n",
    "      alpha (float):     Learning rate\n",
    "      num_iters (int):   number of iterations to run gradient descent\n",
    "      cost_function:     function to call to produce cost\n",
    "      gradient_function: function to call to produce gradient\n",
    "      \n",
    "    Returns:\n",
    "      w (scalar): Updated value of parameter after running gradient descent\n",
    "      b (scalar): Updated value of parameter after running gradient descent\n",
    "      J_history (List): History of cost values\n",
    "      p_history (list): History of parameters [w,b] \n",
    "      \"\"\"\n",
    "    \n",
    "    # An array to store cost J and w's at each iteration primarily for graphing later\n",
    "    J_history = []\n",
    "    p_history = []\n",
    "    b = b_in\n",
    "    w = w_in\n",
    "    \n",
    "    for i in range(num_iters):\n",
    "        # Calculate the gradient and update the parameters using gradient_function\n",
    "        dj_dw, dj_db = gradient_function(x, y, w, b)     \n",
    "\n",
    "        # Update Parameters using equation (3) above\n",
    "        b = b - alpha * dj_db                            \n",
    "        w = w - alpha * dj_dw                            \n",
    "\n",
    "        # Save cost J at each iteration\n",
    "        if i < 100000:      # prevent resource exhaustion \n",
    "            J_history.append( cost_function(x, y, w, b))\n",
    "            p_history.append([w,b])\n",
    "        # Print cost every at intervals 10 times or as many iterations if < 10\n",
    "        if i % math.ceil(num_iters/10) == 0:\n",
    "            print(f\"Iteration {i:4}: Cost {J_history[-1]:0.2e} \",\n",
    "                  f\"dj_dw: {dj_dw: 0.3e}, dj_db: {dj_db: 0.3e}  \",\n",
    "                  f\"w: {w: 0.3e}, b:{b: 0.5e}\")\n",
    " \n",
    "    return w, b, J_history, p_history # return w and J,w history for graphing"
   ]
  },
  {
   "cell_type": "markdown",
   "id": "b2630585-ff1e-4aba-8a56-bfd077ea75ad",
   "metadata": {},
   "source": [
    "## Training"
   ]
  },
  {
   "cell_type": "code",
   "execution_count": 9,
   "id": "b0dab69b-5112-4ebc-9992-2f66ddb04283",
   "metadata": {},
   "outputs": [
    {
     "name": "stdout",
     "output_type": "stream",
     "text": [
      "Iteration    0: Cost 1.57e+08  dj_dw: -2.231e+04, dj_db: -1.713e+02   w:  6.692e-03, b: 5.13855e-05\n",
      "Iteration  150: Cost 4.00e+07  dj_dw: -1.077e+04, dj_db: -8.555e+01   w:  7.179e-01, b: 5.58529e-03\n",
      "Iteration  300: Cost 1.28e+07  dj_dw: -5.198e+03, dj_db: -4.417e+01   w:  1.061e+00, b: 8.38580e-03\n",
      "Iteration  450: Cost 6.41e+06  dj_dw: -2.509e+03, dj_db: -2.419e+01   w:  1.227e+00, b: 9.86686e-03\n",
      "Iteration  600: Cost 4.93e+06  dj_dw: -1.211e+03, dj_db: -1.455e+01   w:  1.307e+00, b: 1.07110e-02\n",
      "Iteration  750: Cost 4.59e+06  dj_dw: -5.846e+02, dj_db: -9.895e+00   w:  1.346e+00, b: 1.12477e-02\n",
      "Iteration  900: Cost 4.51e+06  dj_dw: -2.822e+02, dj_db: -7.648e+00   w:  1.364e+00, b: 1.16360e-02\n",
      "Iteration 1050: Cost 4.49e+06  dj_dw: -1.362e+02, dj_db: -6.563e+00   w:  1.373e+00, b: 1.19527e-02\n",
      "Iteration 1200: Cost 4.48e+06  dj_dw: -6.572e+01, dj_db: -6.040e+00   w:  1.378e+00, b: 1.22347e-02\n",
      "Iteration 1350: Cost 4.48e+06  dj_dw: -3.170e+01, dj_db: -5.787e+00   w:  1.380e+00, b: 1.25001e-02\n",
      "(w,b) found by gradient descent: (  1.3806,  0.0128)\n"
     ]
    }
   ],
   "source": [
    "# initialize parameters\n",
    "w_init = 0\n",
    "b_init = 0\n",
    "\n",
    "# some gradient descent settings\n",
    "iterations = 1500\n",
    "tmp_alpha = 0.0000003\n",
    "\n",
    "# run gradient descent\n",
    "w_final, b_final, J_hist, p_hist = gradient_descent(x_train ,y_train, w_init, b_init, tmp_alpha, \n",
    "                                                    iterations, compute_cost, compute_gradient)\n",
    "print(f\"(w,b) found by gradient descent: ({w_final:8.4f},{b_final:8.4f})\")"
   ]
  },
  {
   "cell_type": "code",
   "execution_count": 10,
   "id": "ce0ecdd2-45e5-4ce1-8ff4-c8bd840c6dde",
   "metadata": {},
   "outputs": [
    {
     "data": {
      "image/png": "[encoded data removed]",
      "text/plain": [
       "<Figure size 640x480 with 1 Axes>"
      ]
     },
     "metadata": {},
     "output_type": "display_data"
    }
   ],
   "source": [
    "plt.scatter(x_train, y_train)\n",
    "plt.plot(x_train, [(w_final * x + b_final) for x in x_train] )\n",
    "plt.show()"
   ]
  },
  {
   "cell_type": "code",
   "execution_count": 11,
   "id": "27036cc6-31b2-45db-9cd8-5f055621f992",
   "metadata": {},
   "outputs": [
    {
     "data": {
      "image/png": "[encoded data removed]",
      "text/plain": [
       "<Figure size 640x480 with 1 Axes>"
      ]
     },
     "metadata": {},
     "output_type": "display_data"
    }
   ],
   "source": [
    "plt.plot(J_hist)\n",
    "plt.show()"
   ]
  },
  {
   "cell_type": "markdown",
   "id": "265acb1f-3430-4d3a-9f50-602d327a188c",
   "metadata": {},
   "source": [
    "# Prediction Price"
   ]
  },
  {
   "cell_type": "code",
   "execution_count": 12,
   "id": "319246cf-b2b5-428c-a619-8acdeb13c00e",
   "metadata": {},
   "outputs": [],
   "source": [
    "def predict(x, w, b):\n",
    "  f_wb = 0\n",
    "  f_wb = w * x + b\n",
    "  return f_wb"
   ]
  },
  {
   "cell_type": "code",
   "execution_count": 13,
   "id": "9726f17b-a1c7-4620-b42b-dcc0850c56af",
   "metadata": {},
   "outputs": [
    {
     "name": "stdin",
     "output_type": "stream",
     "text": [
      "Enter the area in square metes:  800\n"
     ]
    },
    {
     "name": "stdout",
     "output_type": "stream",
     "text": [
      "Predicted price for an area of 800 square meters: $1104522.21\n"
     ]
    }
   ],
   "source": [
    "user_input_area = int(input(\"Enter the area in square metes: \"))\n",
    "predicted_price = predict(user_input_area, w_final, b_final)\n",
    "print(f\"Predicted price for an area of {user_input_area} square meters: ${predicted_price*1000:.2f}\")"
   ]
  }
 ],
 "metadata": {
  "kernelspec": {
   "display_name": "Python 3 (ipykernel)",
   "language": "python",
   "name": "python3"
  },
  "language_info": {
   "codemirror_mode": {
    "name": "ipython",
    "version": 3
   },
   "file_extension": ".py",
   "mimetype": "text/x-python",
   "name": "python",
   "nbconvert_exporter": "python",
   "pygments_lexer": "ipython3",
   "version": "3.12.3"
  },
  "widgets": {
   "application/vnd.jupyter.widget-state+json": {
    "state": {},
    "version_major": 2,
    "version_minor": 0
   }
  }
 },
 "nbformat": 4,
 "nbformat_minor": 5
}
